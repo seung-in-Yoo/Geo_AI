{
 "cells": [
  {
   "cell_type": "code",
   "execution_count": null,
   "id": "cdde6ea7-6a7e-4ee0-8e98-1aa53d6ac680",
   "metadata": {},
   "outputs": [],
   "source": [
    "# 1번째 임시 코드 \n",
    "# Ridge Regression과 RandomForestRegressor 모델중 후자를 선택 (이유는 데이터의 비선형성 가능성과 RandomForest의 일반화 능력을 고려)\n",
    "import pandas as pd\n",
    "from sklearn.preprocessing import StandardScaler\n",
    "from sklearn.decomposition import PCA\n",
    "from sklearn.linear_model import Ridge\n",
    "from sklearn.ensemble import RandomForestRegressor\n",
    "from sklearn.model_selection import GridSearchCV\n",
    "from sklearn.metrics import mean_squared_error\n",
    "import numpy as np\n",
    "\n",
    "\n",
    "train_data = pd.read_csv('./training.csv') \n",
    "test_data = pd.read_csv('./test.csv')      \n",
    "\n",
    "# 훈련 데이터에서 특징(X)과 목표 변수(y) 분리\n",
    "X_train = train_data.drop(columns=['Value'])\n",
    "y_train = train_data['Value']\n",
    "\n",
    "# 데이터 표준화 시키기\n",
    "scaler = StandardScaler()\n",
    "X_train_scaled = scaler.fit_transform(X_train)\n",
    "X_test_scaled = scaler.transform(test_data)\n",
    "\n",
    "# 차원 축소 (PCA)\n",
    "pca = PCA(n_components=0.95, random_state=99)  # 95% 이상의 분산 유지\n",
    "X_train_pca = pca.fit_transform(X_train_scaled)\n",
    "X_test_pca = pca.transform(X_test_scaled)\n",
    "\n",
    "# Ridge Regression 모델 학습 및 하이퍼파라미터 튜닝\n",
    "ridge_params = {'alpha': [0.01, 0.1, 1, 10, 100]}\n",
    "ridge = Ridge(random_state=99)\n",
    "ridge_grid_search = GridSearchCV(ridge, ridge_params, scoring='neg_mean_squared_error', cv=5)\n",
    "ridge_grid_search.fit(X_train_pca, y_train)\n",
    "best_ridge = ridge_grid_search.best_estimator_\n",
    "ridge_best_score = np.sqrt(-ridge_grid_search.best_score_)   # Ridge Regression의 교차 검증 RMSE (약 4.46)\n",
    "\n",
    "# RandomForestRegressor 모델 학습 및 하이퍼파라미터 튜닝\n",
    "rf_params = {'n_estimators': [10, 50, 100, 200], 'max_depth': [None, 5, 10, 20]}\n",
    "rf = RandomForestRegressor(random_state=99)\n",
    "rf_grid_search = GridSearchCV(rf, rf_params, scoring='neg_mean_squared_error', cv=5)\n",
    "rf_grid_search.fit(X_train_pca, y_train)\n",
    "best_rf = rf_grid_search.best_estimator_\n",
    "rf_best_score = np.sqrt(-rf_grid_search.best_score_)   # RandomForestRegressor의 교차 검증 RMSE (약 4.55)\n",
    "\n",
    "# 테스트 데이터에 대한 예측값 생성 (RandomForest 사용)\n",
    "test_predictions = best_rf.predict(X_test_pca)\n",
    "\n",
    "# 예측값을 포함한 최종 결과 생성\n",
    "test_results = test_data.copy()\n",
    "test_results['Predicted_Value'] = test_predictions\n",
    "\n",
    "# 결과를 csv파일로 저장\n",
    "test_results.to_csv('./test_predictions.csv', index=False)  # 결과를 CSV 파일로 저장\n",
    "print(\"예측 완료: test_predictions.csv 파일에 저장.\")\n"
   ]
  }
 ],
 "metadata": {
  "kernelspec": {
   "display_name": "Python 3 (ipykernel)",
   "language": "python",
   "name": "python3"
  },
  "language_info": {
   "codemirror_mode": {
    "name": "ipython",
    "version": 3
   },
   "file_extension": ".py",
   "mimetype": "text/x-python",
   "name": "python",
   "nbconvert_exporter": "python",
   "pygments_lexer": "ipython3",
   "version": "3.12.4"
  }
 },
 "nbformat": 4,
 "nbformat_minor": 5
}
